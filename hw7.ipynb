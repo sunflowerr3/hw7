{
  "metadata": {
    "language_info": {
      "codemirror_mode": {
        "name": "python",
        "version": 3
      },
      "file_extension": ".py",
      "mimetype": "text/x-python",
      "name": "python",
      "nbconvert_exporter": "python",
      "pygments_lexer": "ipython3",
      "version": "3.8"
    },
    "kernelspec": {
      "name": "python",
      "display_name": "Python (Pyodide)",
      "language": "python"
    }
  },
  "nbformat_minor": 4,
  "nbformat": 4,
  "cells": [
    {
      "cell_type": "code",
      "source": "# Выберете тест и проверьте, есть ли различия между выборками:\n# 1 ) Даны две независимые выборки. Не соблюдается условие нормальности\n# x1 380,420, 290\n# y1 140,360,200,900\n# Сделайте вывод по результатам, полученным с помощью функции",
      "metadata": {
        "trusted": true
      },
      "execution_count": 1,
      "outputs": []
    },
    {
      "cell_type": "code",
      "source": "import scipy.stats as stats\nimport numpy as np\nimport pylab",
      "metadata": {
        "trusted": true
      },
      "execution_count": 2,
      "outputs": []
    },
    {
      "cell_type": "code",
      "source": "x1 = np.array ([380, 420, 290])\ny1 = np.array ([140,360,200,900])\n\nstat, p = stats.mannwhitneyu(x1, y1)\n\nprint('Statistics=%.3f, p-value=%.3f' % (stat, p))\n\nalpha = 0.05\nif p > alpha:\n    print('имеются статистически значимые различия между выборками')\nelse:\n    print('статистически значимых различий между выборками не имеется')",
      "metadata": {
        "trusted": true
      },
      "execution_count": 3,
      "outputs": [
        {
          "name": "stdout",
          "text": "Statistics=8.000, p-value=0.629\nимеются статистически значимые различия между выборками\n",
          "output_type": "stream"
        }
      ]
    },
    {
      "cell_type": "code",
      "source": "# 2 ) Исследовалось влияние препарата на уровень давления пациентов. Сначала измерялось давление до приема препарата, потом через 10 минут и через 30 минут. \n# Есть ли статистически значимые различия?\n# 1е измерение до приема препарата: 150, 160, 165, 145, 155\n# 2е измерение через 10 минут: 140, 155, 150, 130, 135\n# 3е измерение через 30 минут: 130, 130, 120, 130, 125",
      "metadata": {
        "trusted": true
      },
      "execution_count": 4,
      "outputs": []
    },
    {
      "cell_type": "code",
      "source": "gr1=np.array ([150, 160, 165, 145, 155])\ngr2=np.array ([140, 155, 150, 130, 135])\ngr3=np.array ([130, 130, 120, 130, 125])\n\nstat, p = stats.friedmanchisquare(gr1, gr2, gr3)\n\nprint('Statistics=%.3f, p-value=%.3f' % (stat, p))\n\nalpha = 0.05\nif p > alpha:\n    print('имеется влияние препарата на уровень давления пациентов')\nelse:\n    print('влияния препарата на уровень давления пациентов не имеется')",
      "metadata": {
        "trusted": true
      },
      "execution_count": 5,
      "outputs": [
        {
          "name": "stdout",
          "text": "Statistics=9.579, p-value=0.008\nвлияния препарата на уровень давления пациентов не имеется\n",
          "output_type": "stream"
        }
      ]
    },
    {
      "cell_type": "code",
      "source": "# 3 ) Сравните 1 и 2 е измерения, предполагая, что 3го измерения через 30 минут не было.\n# 1е измерение до приема препарата: 150, 160, 165, 145, 155\n# 2е измерение через 10 минут: 140, 155, 150, 130, 135",
      "metadata": {
        "trusted": true
      },
      "execution_count": 6,
      "outputs": []
    },
    {
      "cell_type": "code",
      "source": "gr1=np.array ([150, 160, 165, 145, 155])\ngr2=np.array ([140, 155, 150, 130, 135])\n\nstat, p = stats.wilcoxon(gr1, gr2)\nprint('Statistics=%.3f, p-value=%.3f' % (stat, p))\n\nalpha = 0.05\nif p > alpha:\n    print('имеется влияние препарата на уровень давления пациентов')\nelse:\n    print('влияния препарата на уровень давления пациентов не имеется')",
      "metadata": {
        "trusted": true
      },
      "execution_count": 7,
      "outputs": [
        {
          "name": "stdout",
          "text": "Statistics=0.000, p-value=0.062\nимеется влияние препарата на уровень давления пациентов\n",
          "output_type": "stream"
        }
      ]
    },
    {
      "cell_type": "code",
      "source": "# 4) Даны 3 группы учеников плавания.\n# В 1 группе время на дистанцию 50 м составляют: 56, 60, 62, 55, 71, 67, 59, 58, 64, 67\n# Вторая группа : 57, 58, 69, 48, 72, 70, 68, 71, 50, 53\n# Третья группа: 57, 67, 49, 48, 47, 55, 66, 51, 54",
      "metadata": {
        "trusted": true
      },
      "execution_count": 8,
      "outputs": []
    },
    {
      "cell_type": "code",
      "source": "gr1=np.array ([56, 60, 62, 55, 71, 67, 59, 58, 64, 67])\ngr2=np.array ([57, 58, 69, 48, 72, 70, 68, 71, 50, 53])\ngr3=np.array ([57, 67, 49, 48, 47, 55, 66, 51, 54])\n\nstat, p = stats.kruskal(gr1, gr2, gr3)\n\nprint('Statistics=%.3f, p-value=%.3f' % (stat, p))\n\nalpha = 0.05\nif p > alpha:\n    print('иимеются статистически значимые различия между выборками')\nelse:\n    print('статистически значимых различий между выборками не имеется')",
      "metadata": {
        "trusted": true
      },
      "execution_count": 9,
      "outputs": [
        {
          "name": "stdout",
          "text": "Statistics=5.466, p-value=0.065\nимеются статистически значимые различия между выборками\n",
          "output_type": "stream"
        }
      ]
    },
    {
      "cell_type": "code",
      "source": "",
      "metadata": {},
      "execution_count": null,
      "outputs": []
    }
  ]
}
